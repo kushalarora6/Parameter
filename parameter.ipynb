{
  "nbformat": 4,
  "nbformat_minor": 0,
  "metadata": {
    "colab": {
      "provenance": [],
      "authorship_tag": "ABX9TyNsyTRkqAdiu3GHNQVXeSyh",
      "include_colab_link": true
    },
    "kernelspec": {
      "name": "python3",
      "display_name": "Python 3"
    },
    "language_info": {
      "name": "python"
    }
  },
  "cells": [
    {
      "cell_type": "markdown",
      "metadata": {
        "id": "view-in-github",
        "colab_type": "text"
      },
      "source": [
        "<a href=\"https://colab.research.google.com/github/kushalarora6/Parameter/blob/main/parameter.ipynb\" target=\"_parent\"><img src=\"https://colab.research.google.com/assets/colab-badge.svg\" alt=\"Open In Colab\"/></a>"
      ]
    },
    {
      "cell_type": "code",
      "execution_count": null,
      "metadata": {
        "id": "C21aMZkPIyua"
      },
      "outputs": [],
      "source": [
        "import pandas as pd\n",
        "import numpy as np\n",
        "import matplotlib.pyplot as plt\n",
        "from sklearn.model_selection import train_test_split, GridSearchCV\n",
        "from sklearn.svm import SVC\n",
        "from sklearn.metrics import accuracy_score\n",
        "\n",
        "# Load dataset\n",
        "url = \"https://archive.ics.uci.edu/ml/machine-learning-databases/wine-quality/winequality-red.csv\"\n",
        "data = pd.read_csv(url, sep=';')\n",
        "\n",
        "# Data preparation\n",
        "X = data.drop('quality', axis=1)\n",
        "y = data['quality']\n",
        "\n",
        "# Store results\n",
        "results = []\n",
        "\n",
        "# Run optimization for 10 samples\n",
        "for i in range(10):\n",
        "    # Split the dataset\n",
        "    X_train, X_test, y_train, y_test = train_test_split(X, y, test_size=0.3, random_state=i)\n",
        "\n",
        "    # Define SVM model and parameters for optimization\n",
        "    svm = SVC()\n",
        "    param_grid = {\n",
        "        'C': [0.1, 1, 10, 100],\n",
        "        'gamma': ['scale', 'auto', 0.01, 0.1, 1],\n",
        "        'kernel': ['linear', 'rbf', 'poly']\n",
        "    }\n",
        "\n",
        "    # Optimize SVM\n",
        "    grid_search = GridSearchCV(svm, param_grid, cv=5, n_jobs=-1)\n",
        "    grid_search.fit(X_train, y_train)\n",
        "\n",
        "    # Get best parameters and accuracy\n",
        "    best_params = grid_search.best_params_\n",
        "    best_accuracy = grid_search.best_score_\n",
        "\n",
        "    # Store results\n",
        "    results.append((i, best_params, best_accuracy))\n",
        "\n",
        "# Create DataFrame for results\n",
        "results_df = pd.DataFrame(results, columns=['Sample', 'Best Parameters', 'Best Accuracy'])\n",
        "\n",
        "# Display results\n",
        "print(results_df)\n",
        "\n",
        "# Plot convergence graph for the best accuracy sample\n",
        "best_sample = results_df.loc[results_df['Best Accuracy'].idxmax()]\n",
        "best_params = best_sample['Best Parameters']\n",
        "\n",
        "# Fit the best model on the entire training set\n",
        "svm_best = SVC(**best_params)\n",
        "svm_best.fit(X_train, y_train)\n",
        "\n",
        "# Convergence graph (dummy data for illustration)\n",
        "iterations = np.arange(1, 101)\n",
        "accuracy = np.random.rand(100) * best_sample['Best Accuracy']  # Replace with actual accuracy values\n",
        "\n",
        "plt.plot(iterations, accuracy)\n",
        "plt.title('Convergence Graph of Best SVM')\n",
        "plt.xlabel('Iterations')\n",
        "plt.ylabel('Accuracy')\n",
        "plt.grid()\n",
        "plt.show()"
      ]
    }
  ]
}